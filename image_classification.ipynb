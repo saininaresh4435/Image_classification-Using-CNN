{
 "cells": [
  {
   "cell_type": "code",
   "execution_count": 47,
   "metadata": {},
   "outputs": [],
   "source": [
    "import os,cv2\n",
    "import numpy as np\n",
    "import matplotlib.pyplot as plt\n",
    "\n",
    "from sklearn.utils import shuffle\n",
    "from sklearn.cross_validation import train_test_split\n",
    "\n",
    "from keras import backend as K\n",
    "K.set_image_dim_ordering('th')\n",
    "\n",
    "from keras.utils import np_utils\n",
    "from keras.models import Sequential\n",
    "from keras.layers.core import Dense, Dropout, Activation, Flatten\n",
    "from keras.layers.convolutional import Convolution2D, MaxPooling2D\n",
    "from keras.optimizers import SGD,RMSprop,adam"
   ]
  },
  {
   "cell_type": "code",
   "execution_count": 48,
   "metadata": {},
   "outputs": [
    {
     "data": {
      "text/plain": [
       "['Driver_No_Phone', 'Driver_Phone']"
      ]
     },
     "execution_count": 48,
     "metadata": {},
     "output_type": "execute_result"
    }
   ],
   "source": [
    "PATH=os.getcwd()\n",
    "data_path= PATH + '\\data'\n",
    "\n",
    "data_dir_list=os.listdir(data_path)\n",
    "data_dir_list"
   ]
  },
  {
   "cell_type": "code",
   "execution_count": 49,
   "metadata": {},
   "outputs": [
    {
     "name": "stdout",
     "output_type": "stream",
     "text": [
      "(200, 128, 128)\n"
     ]
    }
   ],
   "source": [
    "img_rows=128\n",
    "img_cols=128\n",
    "num_channel=1\n",
    "num_epoch=10\n",
    "\n",
    "num_classes = 2\n",
    "img_data_list=[]\n",
    "\n",
    "for dataset in data_dir_list:\n",
    "    img_list=os.listdir(data_path+'/'+ dataset)\n",
    "    #print ('Loaded the images of dataset-'+'{}\\n'.format(dataset))\n",
    "    for img in img_list:\n",
    "        input_img=cv2.imread(data_path + '/'+ dataset + '/'+ img )\n",
    "        input_img=cv2.cvtColor(input_img, cv2.COLOR_BGR2GRAY)\n",
    "        input_img_resize=cv2.resize(input_img,(128,128))\n",
    "        img_data_list.append(input_img_resize)\n",
    "\n",
    "img_data = np.array(img_data_list)\n",
    "img_data = img_data.astype('float32')\n",
    "img_data /= 255\n",
    "print (img_data.shape)"
   ]
  },
  {
   "cell_type": "code",
   "execution_count": 50,
   "metadata": {},
   "outputs": [
    {
     "name": "stdout",
     "output_type": "stream",
     "text": [
      "(200, 1, 128, 128)\n"
     ]
    }
   ],
   "source": [
    "if num_channel==1:\n",
    "    if K.image_dim_ordering()=='th':\n",
    "        img_data= np.expand_dims(img_data,axis=1) \n",
    "        print (img_data.shape)\n",
    "    else:\n",
    "        img_data= np.expand_dims(img_data, axis=4) \n",
    "        print (img_data.shape)\n",
    "\n",
    "else:\n",
    "    if K.image_dim_ordering()=='th':\n",
    "        img_data=np.rollaxis(img_data,3,axis=1)\n",
    "        print (img_data.shape)"
   ]
  },
  {
   "cell_type": "code",
   "execution_count": 51,
   "metadata": {},
   "outputs": [
    {
     "name": "stdout",
     "output_type": "stream",
     "text": [
      "Loaded the images of dataset-Driver_No_Phone\n",
      "\n",
      "Loaded the images of dataset-Driver_Phone\n",
      "\n",
      "(200, 16384)\n",
      "(200, 16384)\n",
      "-6.4074994e-09\n",
      "0.9999999\n",
      "[ 6.5565109e-09 -1.1622905e-08 -1.4305114e-08 ... -1.8700957e-08\n",
      "  2.4288893e-08 -4.4889750e-09]\n",
      "[1.         0.9999998  0.99999976 ... 1.         0.9999998  0.9999996 ]\n",
      "(200, 1, 128, 128)\n"
     ]
    },
    {
     "name": "stderr",
     "output_type": "stream",
     "text": [
      "C:\\Users\\karan\\Anaconda3\\lib\\site-packages\\sklearn\\preprocessing\\data.py:160: UserWarning: Numerical issues were encountered when centering the data and might not be solved. Dataset may contain too large values. You may need to prescale your features.\n",
      "  warnings.warn(\"Numerical issues were encountered \"\n",
      "C:\\Users\\karan\\Anaconda3\\lib\\site-packages\\sklearn\\preprocessing\\data.py:177: UserWarning: Numerical issues were encountered when scaling the data and might not be solved. The standard deviation of the data is probably very close to 0. \n",
      "  warnings.warn(\"Numerical issues were encountered \"\n"
     ]
    }
   ],
   "source": [
    "USE_SKLEARN_PREPROCESSING=True\n",
    "if USE_SKLEARN_PREPROCESSING:\n",
    "\t# using sklearn for preprocessing\n",
    "\tfrom sklearn import preprocessing\n",
    "\t\n",
    "\tdef image_to_feature_vector(image, size=(128, 128)):\n",
    "\t\t# resize the image to a fixed size, then flatten the image into\n",
    "\t\t# a list of raw pixel intensities\n",
    "\t\treturn cv2.resize(image, size).flatten()\n",
    "\t\n",
    "\timg_data_list=[]\n",
    "\tfor dataset in data_dir_list:\n",
    "\t\timg_list=os.listdir(data_path+'/'+ dataset)\n",
    "\t\tprint ('Loaded the images of dataset-'+'{}\\n'.format(dataset))\n",
    "\t\tfor img in img_list:\n",
    "\t\t\tinput_img=cv2.imread(data_path + '/'+ dataset + '/'+ img )\n",
    "\t\t\tinput_img=cv2.cvtColor(input_img, cv2.COLOR_BGR2GRAY)\n",
    "\t\t\tinput_img_flatten=image_to_feature_vector(input_img,(128,128))\n",
    "\t\t\timg_data_list.append(input_img_flatten)\n",
    "\t\n",
    "\timg_data = np.array(img_data_list)\n",
    "\timg_data = img_data.astype('float32')\n",
    "\tprint (img_data.shape)\n",
    "\timg_data_scaled = preprocessing.scale(img_data)\n",
    "\tprint (img_data_scaled.shape)\n",
    "\t\n",
    "\tprint (np.mean(img_data_scaled))\n",
    "\tprint (np.std(img_data_scaled))\n",
    "\t\n",
    "\tprint (img_data_scaled.mean(axis=0))\n",
    "\tprint (img_data_scaled.std(axis=0))\n",
    "\t\n",
    "\tif K.image_dim_ordering()=='th':\n",
    "\t\timg_data_scaled=img_data_scaled.reshape(img_data.shape[0],num_channel,img_rows,img_cols)\n",
    "\t\tprint (img_data_scaled.shape)\n",
    "\t\t\n",
    "\telse:\n",
    "\t\timg_data_scaled=img_data_scaled.reshape(img_data.shape[0],img_rows,img_cols,num_channel)\n",
    "\t\tprint (img_data_scaled.shape)"
   ]
  },
  {
   "cell_type": "code",
   "execution_count": 69,
   "metadata": {},
   "outputs": [],
   "source": [
    "if USE_SKLEARN_PREPROCESSING:\n",
    "\timg_data=img_data_scaled\n",
    "num_classes = 2\n",
    "\n",
    "num_of_samples = img_data.shape[0]\n",
    "labels = np.ones((num_of_samples,),dtype='int64')\n",
    "\n",
    "labels[0:100]=0\n",
    "labels[100:]=1\n",
    "\n",
    "names = ['Driver_No_Phone', 'Driver_Phone']\n",
    "\t  \n",
    "# convert class labels to on-hot encoding\n",
    "Y = np_utils.to_categorical(labels, num_classes)\n",
    "\n",
    "#Shuffle the dataset\n",
    "x,y = shuffle(img_data,Y, random_state=2)\n",
    "# Split the dataset\n",
    "X_train, X_test, y_train, y_test = train_test_split(x, y, test_size=0.2, random_state=2)\n",
    "input_shape=img_data[0].shape\n"
   ]
  },
  {
   "cell_type": "code",
   "execution_count": 53,
   "metadata": {},
   "outputs": [
    {
     "name": "stderr",
     "output_type": "stream",
     "text": [
      "C:\\Users\\karan\\Anaconda3\\lib\\site-packages\\ipykernel_launcher.py:3: UserWarning: Update your `Conv2D` call to the Keras 2 API: `Conv2D(32, (3, 3), input_shape=(1, 128, 1..., padding=\"same\")`\n",
      "  This is separate from the ipykernel package so we can avoid doing imports until\n",
      "C:\\Users\\karan\\Anaconda3\\lib\\site-packages\\ipykernel_launcher.py:5: UserWarning: Update your `Conv2D` call to the Keras 2 API: `Conv2D(32, (3, 3))`\n",
      "  \"\"\"\n",
      "C:\\Users\\karan\\Anaconda3\\lib\\site-packages\\ipykernel_launcher.py:10: UserWarning: Update your `Conv2D` call to the Keras 2 API: `Conv2D(64, (3, 3))`\n",
      "  # Remove the CWD from sys.path while we load stuff.\n",
      "C:\\Users\\karan\\Anaconda3\\lib\\site-packages\\ipykernel_launcher.py:12: UserWarning: Update your `Conv2D` call to the Keras 2 API: `Conv2D(64, (3, 3))`\n",
      "  if sys.path[0] == '':\n"
     ]
    },
    {
     "name": "stdout",
     "output_type": "stream",
     "text": [
      "_________________________________________________________________\n",
      "Layer (type)                 Output Shape              Param #   \n",
      "=================================================================\n",
      "conv2d_17 (Conv2D)           (None, 32, 128, 128)      320       \n",
      "_________________________________________________________________\n",
      "activation_25 (Activation)   (None, 32, 128, 128)      0         \n",
      "_________________________________________________________________\n",
      "conv2d_18 (Conv2D)           (None, 32, 126, 126)      9248      \n",
      "_________________________________________________________________\n",
      "activation_26 (Activation)   (None, 32, 126, 126)      0         \n",
      "_________________________________________________________________\n",
      "max_pooling2d_9 (MaxPooling2 (None, 32, 63, 63)        0         \n",
      "_________________________________________________________________\n",
      "dropout_13 (Dropout)         (None, 32, 63, 63)        0         \n",
      "_________________________________________________________________\n",
      "conv2d_19 (Conv2D)           (None, 64, 61, 61)        18496     \n",
      "_________________________________________________________________\n",
      "activation_27 (Activation)   (None, 64, 61, 61)        0         \n",
      "_________________________________________________________________\n",
      "conv2d_20 (Conv2D)           (None, 64, 59, 59)        36928     \n",
      "_________________________________________________________________\n",
      "activation_28 (Activation)   (None, 64, 59, 59)        0         \n",
      "_________________________________________________________________\n",
      "max_pooling2d_10 (MaxPooling (None, 64, 29, 29)        0         \n",
      "_________________________________________________________________\n",
      "dropout_14 (Dropout)         (None, 64, 29, 29)        0         \n",
      "_________________________________________________________________\n",
      "flatten_5 (Flatten)          (None, 53824)             0         \n",
      "_________________________________________________________________\n",
      "dense_9 (Dense)              (None, 64)                3444800   \n",
      "_________________________________________________________________\n",
      "activation_29 (Activation)   (None, 64)                0         \n",
      "_________________________________________________________________\n",
      "dropout_15 (Dropout)         (None, 64)                0         \n",
      "_________________________________________________________________\n",
      "dense_10 (Dense)             (None, 2)                 130       \n",
      "_________________________________________________________________\n",
      "activation_30 (Activation)   (None, 2)                 0         \n",
      "=================================================================\n",
      "Total params: 3,509,922\n",
      "Trainable params: 3,509,922\n",
      "Non-trainable params: 0\n",
      "_________________________________________________________________\n"
     ]
    }
   ],
   "source": [
    "model = Sequential()\n",
    "\n",
    "model.add(Convolution2D(32, 3,3,border_mode='same',input_shape=input_shape))\n",
    "model.add(Activation('relu'))\n",
    "model.add(Convolution2D(32, 3, 3))\n",
    "model.add(Activation('relu'))\n",
    "model.add(MaxPooling2D(pool_size=(2, 2)))\n",
    "model.add(Dropout(0.5))\n",
    "\n",
    "model.add(Convolution2D(64, 3, 3))\n",
    "model.add(Activation('relu'))\n",
    "model.add(Convolution2D(64, 3, 3))\n",
    "model.add(Activation('relu'))\n",
    "model.add(MaxPooling2D(pool_size=(2, 2)))\n",
    "model.add(Dropout(0.5))\n",
    "\n",
    "model.add(Flatten())\n",
    "model.add(Dense(64))\n",
    "model.add(Activation('relu'))\n",
    "model.add(Dropout(0.5))\n",
    "model.add(Dense(num_classes))\n",
    "model.add(Activation('softmax'))\n",
    "\n",
    "sgd = SGD(lr=0.01, decay=1e-6, momentum=0.9, nesterov=True)\n",
    "model.compile(loss='categorical_crossentropy', optimizer=sgd,metrics=[\"accuracy\"])\n",
    "#model.compile(loss='categorical_crossentropy', optimizer='rmsprop',metrics=[\"accuracy\"])\n",
    "\n",
    "# Viewing model_configuration\n",
    "\n",
    "model.summary()"
   ]
  },
  {
   "cell_type": "code",
   "execution_count": 54,
   "metadata": {},
   "outputs": [
    {
     "name": "stderr",
     "output_type": "stream",
     "text": [
      "C:\\Users\\karan\\Anaconda3\\lib\\site-packages\\keras\\models.py:942: UserWarning: The `nb_epoch` argument in `fit` has been renamed `epochs`.\n",
      "  warnings.warn('The `nb_epoch` argument in `fit` '\n"
     ]
    },
    {
     "name": "stdout",
     "output_type": "stream",
     "text": [
      "Train on 160 samples, validate on 40 samples\n",
      "Epoch 1/10\n",
      "160/160 [==============================] - 61s 382ms/step - loss: 0.7326 - acc: 0.5375 - val_loss: 0.7052 - val_acc: 0.3500\n",
      "Epoch 2/10\n",
      "160/160 [==============================] - 62s 384ms/step - loss: 0.6874 - acc: 0.5312 - val_loss: 0.7025 - val_acc: 0.3500\n",
      "Epoch 3/10\n",
      "160/160 [==============================] - 58s 366ms/step - loss: 0.6793 - acc: 0.5500 - val_loss: 0.7021 - val_acc: 0.3500\n",
      "Epoch 4/10\n",
      "160/160 [==============================] - 70s 438ms/step - loss: 0.6595 - acc: 0.5750 - val_loss: 0.6958 - val_acc: 0.5750\n",
      "Epoch 5/10\n",
      "160/160 [==============================] - 63s 393ms/step - loss: 0.6633 - acc: 0.6250 - val_loss: 0.6909 - val_acc: 0.5250\n",
      "Epoch 6/10\n",
      "160/160 [==============================] - 55s 345ms/step - loss: 0.6471 - acc: 0.6688 - val_loss: 0.7035 - val_acc: 0.4750\n",
      "Epoch 7/10\n",
      "160/160 [==============================] - 56s 351ms/step - loss: 0.6173 - acc: 0.6500 - val_loss: 0.6964 - val_acc: 0.5250\n",
      "Epoch 8/10\n",
      "160/160 [==============================] - 69s 432ms/step - loss: 0.5753 - acc: 0.6813 - val_loss: 0.6886 - val_acc: 0.5000\n",
      "Epoch 9/10\n",
      "160/160 [==============================] - 63s 394ms/step - loss: 0.5116 - acc: 0.7812 - val_loss: 0.7121 - val_acc: 0.5500\n",
      "Epoch 10/10\n",
      "160/160 [==============================] - 64s 397ms/step - loss: 0.4907 - acc: 0.7688 - val_loss: 0.6951 - val_acc: 0.5500\n"
     ]
    }
   ],
   "source": [
    "hist = model.fit(X_train, y_train, batch_size=16, nb_epoch=num_epoch, verbose=1, validation_data=(X_test, y_test))"
   ]
  },
  {
   "cell_type": "code",
   "execution_count": 75,
   "metadata": {},
   "outputs": [
    {
     "name": "stdout",
     "output_type": "stream",
     "text": [
      "Test Loss: 0.69507896900177\n",
      "Test accuracy: 0.55\n"
     ]
    }
   ],
   "source": [
    "score = model.evaluate(X_test, y_test, verbose=0)\n",
    "print('Test Loss:', score[0])\n",
    "print('Test accuracy:', score[1])"
   ]
  },
  {
   "cell_type": "code",
   "execution_count": 81,
   "metadata": {},
   "outputs": [
    {
     "name": "stdout",
     "output_type": "stream",
     "text": [
      "(1, 1, 128, 128)\n"
     ]
    }
   ],
   "source": [
    "test_image2 = X_test[7:8]\n",
    "print (test_image2.shape)"
   ]
  },
  {
   "cell_type": "code",
   "execution_count": 82,
   "metadata": {},
   "outputs": [
    {
     "name": "stdout",
     "output_type": "stream",
     "text": [
      "[[0.43186656 0.5681334 ]]\n",
      "[1]\n",
      "[[1. 0.]]\n"
     ]
    }
   ],
   "source": [
    "print(model.predict(test_image2))\n",
    "print(model.predict_classes(test_image2))\n",
    "print(y_test[7:8])"
   ]
  },
  {
   "cell_type": "code",
   "execution_count": 87,
   "metadata": {},
   "outputs": [
    {
     "name": "stdout",
     "output_type": "stream",
     "text": [
      "[[0.40900558 0.59099436]\n",
      " [0.44040525 0.55959475]\n",
      " [0.41876078 0.5812392 ]\n",
      " [0.52174246 0.47825754]\n",
      " [0.6390658  0.3609342 ]\n",
      " [0.40662867 0.59337133]\n",
      " [0.4759207  0.52407926]\n",
      " [0.43186656 0.5681335 ]\n",
      " [0.5116017  0.48839834]\n",
      " [0.42639592 0.57360405]\n",
      " [0.48393998 0.51606005]\n",
      " [0.4498119  0.5501881 ]\n",
      " [0.3635201  0.6364799 ]\n",
      " [0.44023862 0.55976135]\n",
      " [0.53283286 0.46716717]\n",
      " [0.33959848 0.6604015 ]\n",
      " [0.43073428 0.56926566]\n",
      " [0.52070534 0.4792946 ]\n",
      " [0.5999756  0.40002444]\n",
      " [0.63721687 0.36278313]\n",
      " [0.6524456  0.3475544 ]\n",
      " [0.55770004 0.44229996]\n",
      " [0.6201233  0.3798766 ]\n",
      " [0.56591743 0.43408257]\n",
      " [0.5354308  0.46456924]\n",
      " [0.53317106 0.46682897]\n",
      " [0.6391698  0.3608302 ]\n",
      " [0.53468007 0.46531993]\n",
      " [0.36319655 0.63680345]\n",
      " [0.57171005 0.42828992]\n",
      " [0.58625674 0.4137432 ]\n",
      " [0.43100542 0.5689946 ]\n",
      " [0.53777826 0.46222183]\n",
      " [0.62571156 0.37428847]\n",
      " [0.6924742  0.3075258 ]\n",
      " [0.34177604 0.65822387]\n",
      " [0.5078661  0.4921339 ]\n",
      " [0.4621776  0.53782237]\n",
      " [0.56968755 0.43031242]\n",
      " [0.49814138 0.5018586 ]]\n",
      "[1 1 1 0 0 1 1 1 0 1 1 1 1 1 0 1 1 0 0 0 0 0 0 0 0 0 0 0 1 0 0 1 0 0 0 1 0\n",
      " 1 0 1]\n",
      "[1 1 1 0 0 1 1 1 0 1 1 1 1 1 0 1 1 0 0 0 0 0 0 0 0 0 0 0 1 0 0 1 0 0 0 1 0\n",
      " 1 0 1]\n",
      "[[ 9  5]\n",
      " [13 13]]\n"
     ]
    }
   ],
   "source": [
    "from sklearn.metrics import classification_report,confusion_matrix\n",
    "import itertools\n",
    "\n",
    "Y_pred = model.predict(X_test)\n",
    "print(Y_pred)\n",
    "y_pred = np.argmax(Y_pred, axis=1)\n",
    "print(y_pred)\n",
    "y_pred = model.predict_classes(X_test)\n",
    "print(y_pred)\n",
    "target_names = ['class 0(N)', 'class 1(Y)']\n",
    "\t\t\t\t\t\n",
    "\n",
    "\n",
    "print(confusion_matrix(np.argmax(y_test,axis=1), y_pred))"
   ]
  },
  {
   "cell_type": "code",
   "execution_count": null,
   "metadata": {
    "collapsed": true
   },
   "outputs": [],
   "source": []
  }
 ],
 "metadata": {
  "kernelspec": {
   "display_name": "Python 3",
   "language": "python",
   "name": "python3"
  },
  "language_info": {
   "codemirror_mode": {
    "name": "ipython",
    "version": 3
   },
   "file_extension": ".py",
   "mimetype": "text/x-python",
   "name": "python",
   "nbconvert_exporter": "python",
   "pygments_lexer": "ipython3",
   "version": "3.6.1"
  }
 },
 "nbformat": 4,
 "nbformat_minor": 2
}
